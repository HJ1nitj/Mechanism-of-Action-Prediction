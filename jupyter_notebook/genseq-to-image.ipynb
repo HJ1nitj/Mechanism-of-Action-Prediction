{
 "cells": [
  {
   "cell_type": "code",
   "execution_count": 1,
   "metadata": {
    "_cell_guid": "b1076dfc-b9ad-4769-8c92-a6c4dae69d19",
    "_uuid": "8f2839f25d086af736a60e9eeb907d3b93b6e0e5",
    "execution": {
     "iopub.execute_input": "2020-10-03T23:26:27.694717Z",
     "iopub.status.busy": "2020-10-03T23:26:27.693934Z",
     "iopub.status.idle": "2020-10-03T23:26:29.739080Z",
     "shell.execute_reply": "2020-10-03T23:26:29.738376Z"
    },
    "papermill": {
     "duration": 2.067682,
     "end_time": "2020-10-03T23:26:29.739256",
     "exception": false,
     "start_time": "2020-10-03T23:26:27.671574",
     "status": "completed"
    },
    "tags": []
   },
   "outputs": [],
   "source": [
    "import os, sys\n",
    "import pandas as pd\n",
    "import numpy as np\n",
    "import matplotlib.pyplot as plt\n",
    "import seaborn as sns\n",
    "sys.path.append('../input/iterative-stratification/iterative-stratification-master')\n",
    "from iterstrat.ml_stratifiers import MultilabelStratifiedKFold\n",
    "import torch\n",
    "import torch.nn.functional as F\n",
    "from torch import nn\n",
    "import torch.optim as optim"
   ]
  },
  {
   "cell_type": "code",
   "execution_count": 2,
   "metadata": {
    "_cell_guid": "79c7e3d0-c299-4dcb-8224-4455121ee9b0",
    "_uuid": "d629ff2d2480ee46fbb7e2d37f6b5fab8052498a",
    "execution": {
     "iopub.execute_input": "2020-10-03T23:26:29.775023Z",
     "iopub.status.busy": "2020-10-03T23:26:29.774064Z",
     "iopub.status.idle": "2020-10-03T23:26:29.777723Z",
     "shell.execute_reply": "2020-10-03T23:26:29.777006Z"
    },
    "papermill": {
     "duration": 0.02309,
     "end_time": "2020-10-03T23:26:29.777854",
     "exception": false,
     "start_time": "2020-10-03T23:26:29.754764",
     "status": "completed"
    },
    "tags": []
   },
   "outputs": [],
   "source": [
    "data_path = \"/kaggle/input/lish-moa/\""
   ]
  },
  {
   "cell_type": "code",
   "execution_count": 3,
   "metadata": {
    "execution": {
     "iopub.execute_input": "2020-10-03T23:26:29.816413Z",
     "iopub.status.busy": "2020-10-03T23:26:29.815705Z",
     "iopub.status.idle": "2020-10-03T23:26:34.670127Z",
     "shell.execute_reply": "2020-10-03T23:26:34.669512Z"
    },
    "papermill": {
     "duration": 4.877316,
     "end_time": "2020-10-03T23:26:34.670283",
     "exception": false,
     "start_time": "2020-10-03T23:26:29.792967",
     "status": "completed"
    },
    "tags": []
   },
   "outputs": [],
   "source": [
    "train_features_data = pd.read_csv(data_path+'train_features.csv')\n",
    "test_features_data = pd.read_csv(data_path+'test_features.csv')\n",
    "train_target_scored = pd.read_csv(data_path+'train_targets_scored.csv')\n",
    "\n",
    "train_feat_targets_data = pd.merge(train_features_data, train_target_scored, on='sig_id', how='left')"
   ]
  },
  {
   "cell_type": "code",
   "execution_count": 4,
   "metadata": {
    "execution": {
     "iopub.execute_input": "2020-10-03T23:26:34.713508Z",
     "iopub.status.busy": "2020-10-03T23:26:34.712809Z",
     "iopub.status.idle": "2020-10-03T23:26:34.724530Z",
     "shell.execute_reply": "2020-10-03T23:26:34.723934Z"
    },
    "papermill": {
     "duration": 0.037546,
     "end_time": "2020-10-03T23:26:34.724646",
     "exception": false,
     "start_time": "2020-10-03T23:26:34.687100",
     "status": "completed"
    },
    "tags": []
   },
   "outputs": [],
   "source": [
    "cp_type_mapping = {'trt_cp':0, 'ctl_vehicle':1}\n",
    "cp_dose_mapping = {'D1':0, 'D2':1}\n",
    "\n",
    "train_feat_targets_data['cp_type'] = train_feat_targets_data['cp_type'].map(cp_type_mapping)\n",
    "train_feat_targets_data['cp_dose'] = train_feat_targets_data['cp_dose'].map(cp_dose_mapping)\n",
    "\n",
    "test_features_data['cp_type'] = test_features_data['cp_type'].map(cp_type_mapping)\n",
    "test_features_data['cp_dose'] = test_features_data['cp_dose'].map(cp_dose_mapping)\n",
    "\n",
    "\n",
    "training_features = [col for col in train_features_data.columns if col!='sig_id']\n",
    "target_labels = [col for col in train_target_scored.columns if col!='sig_id']"
   ]
  },
  {
   "cell_type": "code",
   "execution_count": 5,
   "metadata": {
    "execution": {
     "iopub.execute_input": "2020-10-03T23:26:34.760404Z",
     "iopub.status.busy": "2020-10-03T23:26:34.759732Z",
     "iopub.status.idle": "2020-10-03T23:26:34.763206Z",
     "shell.execute_reply": "2020-10-03T23:26:34.762603Z"
    },
    "papermill": {
     "duration": 0.023679,
     "end_time": "2020-10-03T23:26:34.763340",
     "exception": false,
     "start_time": "2020-10-03T23:26:34.739661",
     "status": "completed"
    },
    "tags": []
   },
   "outputs": [],
   "source": [
    "gene_expression_ls = [col for col in train_features_data.columns if 'g-' in col]\n",
    "cell_viability_ls = [col for col in train_features_data.columns if 'c-' in col]"
   ]
  },
  {
   "cell_type": "code",
   "execution_count": 6,
   "metadata": {
    "execution": {
     "iopub.execute_input": "2020-10-03T23:26:34.799985Z",
     "iopub.status.busy": "2020-10-03T23:26:34.799374Z",
     "iopub.status.idle": "2020-10-03T23:27:10.014900Z",
     "shell.execute_reply": "2020-10-03T23:27:10.013983Z"
    },
    "papermill": {
     "duration": 35.235931,
     "end_time": "2020-10-03T23:27:10.015062",
     "exception": false,
     "start_time": "2020-10-03T23:26:34.779131",
     "status": "completed"
    },
    "tags": []
   },
   "outputs": [],
   "source": [
    "from sklearn.manifold import TSNE\n",
    "tsne = TSNE(n_components=2)\n",
    "train_features_data_2d = tsne.fit_transform(train_features_data[gene_expression_ls].T.values)"
   ]
  },
  {
   "cell_type": "code",
   "execution_count": 7,
   "metadata": {
    "execution": {
     "iopub.execute_input": "2020-10-03T23:27:10.080985Z",
     "iopub.status.busy": "2020-10-03T23:27:10.079891Z",
     "iopub.status.idle": "2020-10-03T23:27:10.089366Z",
     "shell.execute_reply": "2020-10-03T23:27:10.086822Z"
    },
    "papermill": {
     "duration": 0.053647,
     "end_time": "2020-10-03T23:27:10.089542",
     "exception": false,
     "start_time": "2020-10-03T23:27:10.035895",
     "status": "completed"
    },
    "tags": []
   },
   "outputs": [],
   "source": [
    "from numpy import *\n",
    "import sys  # maxint\n",
    "\n",
    "def minBoundingRect(hull_points_2d):\n",
    "    #print \"Input convex hull points: \"\n",
    "    #print hull_points_2d\n",
    "\n",
    "    # Compute edges (x2-x1,y2-y1)\n",
    "    edges = zeros( (len(hull_points_2d)-1,2) ) # empty 2 column array\n",
    "    for i in range( len(edges) ):\n",
    "        edge_x = hull_points_2d[i+1,0] - hull_points_2d[i,0]\n",
    "        edge_y = hull_points_2d[i+1,1] - hull_points_2d[i,1]\n",
    "        edges[i] = [edge_x,edge_y]\n",
    "    #print \"Edges: \\n\", edges\n",
    "\n",
    "    # Calculate edge angles   atan2(y/x)\n",
    "    edge_angles = zeros( (len(edges)) ) # empty 1 column array\n",
    "    for i in range( len(edge_angles) ):\n",
    "        edge_angles[i] = math.atan2( edges[i,1], edges[i,0] )\n",
    "    #print \"Edge angles: \\n\", edge_angles\n",
    "\n",
    "    # Check for angles in 1st quadrant\n",
    "    for i in range( len(edge_angles) ):\n",
    "        edge_angles[i] = abs( edge_angles[i] % (math.pi/2) ) # want strictly positive answers\n",
    "    #print \"Edge angles in 1st Quadrant: \\n\", edge_angles\n",
    "\n",
    "    # Remove duplicate angles\n",
    "    edge_angles = unique(edge_angles)\n",
    "    #print \"Unique edge angles: \\n\", edge_angles\n",
    "\n",
    "    # Test each angle to find bounding box with smallest area\n",
    "    min_bbox = (0, sys.maxsize, 0, 0, 0, 0, 0, 0) # rot_angle, area, width, height, min_x, max_x, min_y, max_y\n",
    "    print (\"Testing\", len(edge_angles), \"possible rotations for bounding box... \\n\")\n",
    "    for i in range( len(edge_angles) ):\n",
    "\n",
    "        # Create rotation matrix to shift points to baseline\n",
    "        # R = [ cos(theta)      , cos(theta-PI/2)\n",
    "        #       cos(theta+PI/2) , cos(theta)     ]\n",
    "        R = array([ [ math.cos(edge_angles[i]), math.cos(edge_angles[i]-(math.pi/2)) ], [ math.cos(edge_angles[i]+(math.pi/2)), math.cos(edge_angles[i]) ] ])\n",
    "        #print \"Rotation matrix for \", edge_angles[i], \" is \\n\", R\n",
    "\n",
    "        # Apply this rotation to convex hull points\n",
    "        rot_points = dot(R, transpose(hull_points_2d) ) # 2x2 * 2xn\n",
    "        #print \"Rotated hull points are \\n\", rot_points\n",
    "\n",
    "        # Find min/max x,y points\n",
    "        min_x = nanmin(rot_points[0], axis=0)\n",
    "        max_x = nanmax(rot_points[0], axis=0)\n",
    "        min_y = nanmin(rot_points[1], axis=0)\n",
    "        max_y = nanmax(rot_points[1], axis=0)\n",
    "        #print \"Min x:\", min_x, \" Max x: \", max_x, \"   Min y:\", min_y, \" Max y: \", max_y\n",
    "\n",
    "        # Calculate height/width/area of this bounding rectangle\n",
    "        width = max_x - min_x\n",
    "        height = max_y - min_y\n",
    "        area = width*height\n",
    "        #print \"Potential bounding box \", i, \":  width: \", width, \" height: \", height, \"  area: \", area \n",
    "\n",
    "        # Store the smallest rect found first (a simple convex hull might have 2 answers with same area)\n",
    "        if (area < min_bbox[1]):\n",
    "            min_bbox = ( edge_angles[i], area, width, height, min_x, max_x, min_y, max_y )\n",
    "        # Bypass, return the last found rect\n",
    "        #min_bbox = ( edge_angles[i], area, width, height, min_x, max_x, min_y, max_y )\n",
    "\n",
    "    # Re-create rotation matrix for smallest rect\n",
    "    angle = min_bbox[0]   \n",
    "    R = array([ [ math.cos(angle), math.cos(angle-(math.pi/2)) ], [ math.cos(angle+(math.pi/2)), math.cos(angle) ] ])\n",
    "    #print \"Projection matrix: \\n\", R\n",
    "\n",
    "    # Project convex hull points onto rotated frame\n",
    "    proj_points = dot(R, transpose(hull_points_2d) ) # 2x2 * 2xn\n",
    "    #print \"Project hull points are \\n\", proj_points\n",
    "\n",
    "    # min/max x,y points are against baseline\n",
    "    min_x = min_bbox[4]\n",
    "    max_x = min_bbox[5]\n",
    "    min_y = min_bbox[6]\n",
    "    max_y = min_bbox[7]\n",
    "    #print \"Min x:\", min_x, \" Max x: \", max_x, \"   Min y:\", min_y, \" Max y: \", max_y\n",
    "\n",
    "    # Calculate center point and project onto rotated frame\n",
    "    center_x = (min_x + max_x)/2\n",
    "    center_y = (min_y + max_y)/2\n",
    "    center_point = dot( [ center_x, center_y ], R )\n",
    "    #print \"Bounding box center point: \\n\", center_point\n",
    "\n",
    "    # Calculate corner points and project onto rotated frame\n",
    "    corner_points = zeros( (4,2) ) # empty 2 column array\n",
    "    corner_points[0] = dot( [ max_x, min_y ], R )\n",
    "    corner_points[1] = dot( [ min_x, min_y ], R )\n",
    "    corner_points[2] = dot( [ min_x, max_y ], R )\n",
    "    corner_points[3] = dot( [ max_x, max_y ], R )\n",
    "    #print \"Bounding box corner points: \\n\", corner_points\n",
    "\n",
    "    #print \"Angle of rotation: \", angle, \"rad  \", angle * (180/math.pi), \"deg\"\n",
    "\n",
    "    return (angle, min_bbox[1], min_bbox[2], min_bbox[3], center_point, corner_points) "
   ]
  },
  {
   "cell_type": "code",
   "execution_count": 8,
   "metadata": {
    "execution": {
     "iopub.execute_input": "2020-10-03T23:27:10.131931Z",
     "iopub.status.busy": "2020-10-03T23:27:10.131042Z",
     "iopub.status.idle": "2020-10-03T23:27:10.194829Z",
     "shell.execute_reply": "2020-10-03T23:27:10.194176Z"
    },
    "papermill": {
     "duration": 0.086917,
     "end_time": "2020-10-03T23:27:10.194948",
     "exception": false,
     "start_time": "2020-10-03T23:27:10.108031",
     "status": "completed"
    },
    "tags": []
   },
   "outputs": [
    {
     "name": "stdout",
     "output_type": "stream",
     "text": [
      "Testing 771 possible rotations for bounding box... \n",
      "\n"
     ]
    }
   ],
   "source": [
    "angle, min_bbox1, min_bbox2, min_bbox3, center_point, corner_points = minBoundingRect(train_features_data_2d)"
   ]
  },
  {
   "cell_type": "code",
   "execution_count": 9,
   "metadata": {
    "execution": {
     "iopub.execute_input": "2020-10-03T23:27:10.238977Z",
     "iopub.status.busy": "2020-10-03T23:27:10.237980Z",
     "iopub.status.idle": "2020-10-03T23:27:10.242144Z",
     "shell.execute_reply": "2020-10-03T23:27:10.242708Z"
    },
    "papermill": {
     "duration": 0.027425,
     "end_time": "2020-10-03T23:27:10.242872",
     "exception": false,
     "start_time": "2020-10-03T23:27:10.215447",
     "status": "completed"
    },
    "tags": []
   },
   "outputs": [
    {
     "data": {
      "text/plain": [
       "array([[ 18.88779636, -19.49096775],\n",
       "       [ -5.86625477, -25.32952621],\n",
       "       [-17.36358401,  23.41632053],\n",
       "       [  7.39046712,  29.25487899]])"
      ]
     },
     "execution_count": 9,
     "metadata": {},
     "output_type": "execute_result"
    }
   ],
   "source": [
    "corner_points"
   ]
  },
  {
   "cell_type": "code",
   "execution_count": 10,
   "metadata": {
    "execution": {
     "iopub.execute_input": "2020-10-03T23:27:10.283768Z",
     "iopub.status.busy": "2020-10-03T23:27:10.283052Z",
     "iopub.status.idle": "2020-10-03T23:27:10.483468Z",
     "shell.execute_reply": "2020-10-03T23:27:10.482839Z"
    },
    "papermill": {
     "duration": 0.224067,
     "end_time": "2020-10-03T23:27:10.483589",
     "exception": false,
     "start_time": "2020-10-03T23:27:10.259522",
     "status": "completed"
    },
    "tags": []
   },
   "outputs": [
    {
     "data": {
      "text/plain": [
       "[<matplotlib.lines.Line2D at 0x7effa8e572d0>]"
      ]
     },
     "execution_count": 10,
     "metadata": {},
     "output_type": "execute_result"
    },
    {
     "data": {
      "image/png": "[encoded data removed]",
      "text/plain": [
       "<Figure size 432x288 with 1 Axes>"
      ]
     },
     "metadata": {
      "needs_background": "light"
     },
     "output_type": "display_data"
    }
   ],
   "source": [
    "import matplotlib.pyplot as plt\n",
    "plt.scatter(train_features_data_2d[:, 0], train_features_data_2d[:, 1])\n",
    "plt.plot(corner_points[0:2, 0], corner_points[0:2, 1])\n",
    "plt.plot(corner_points[1:3, 0], corner_points[1:3, 1])\n",
    "plt.plot(corner_points[2:4, 0], corner_points[2:4, 1])\n",
    "plt.plot([corner_points[3, 0], corner_points[0, 0]], [corner_points[3, 1], corner_points[0, 1]])"
   ]
  },
  {
   "cell_type": "code",
   "execution_count": 11,
   "metadata": {
    "execution": {
     "iopub.execute_input": "2020-10-03T23:27:10.532107Z",
     "iopub.status.busy": "2020-10-03T23:27:10.531495Z",
     "iopub.status.idle": "2020-10-03T23:27:10.535271Z",
     "shell.execute_reply": "2020-10-03T23:27:10.534770Z"
    },
    "papermill": {
     "duration": 0.033694,
     "end_time": "2020-10-03T23:27:10.535387",
     "exception": false,
     "start_time": "2020-10-03T23:27:10.501693",
     "status": "completed"
    },
    "tags": []
   },
   "outputs": [],
   "source": [
    "import math\n",
    "rotation_matrix = np.array([[math.cos(angle), -math.sin(angle)],\n",
    "                          [math.sin(angle), math.cos(angle)]])\n",
    "train_features_data_2d_rotated = np.matmul(train_features_data_2d, rotation_matrix)\n",
    "corner_points_rotated = np.matmul(corner_points, rotation_matrix)"
   ]
  },
  {
   "cell_type": "code",
   "execution_count": 12,
   "metadata": {
    "execution": {
     "iopub.execute_input": "2020-10-03T23:27:10.582972Z",
     "iopub.status.busy": "2020-10-03T23:27:10.578107Z",
     "iopub.status.idle": "2020-10-03T23:27:10.719323Z",
     "shell.execute_reply": "2020-10-03T23:27:10.718693Z"
    },
    "papermill": {
     "duration": 0.166126,
     "end_time": "2020-10-03T23:27:10.719433",
     "exception": false,
     "start_time": "2020-10-03T23:27:10.553307",
     "status": "completed"
    },
    "tags": []
   },
   "outputs": [
    {
     "data": {
      "text/plain": [
       "[<matplotlib.lines.Line2D at 0x7effa8d7d190>]"
      ]
     },
     "execution_count": 12,
     "metadata": {},
     "output_type": "execute_result"
    },
    {
     "data": {
      "image/png": "[encoded data removed]",
      "text/plain": [
       "<Figure size 432x288 with 1 Axes>"
      ]
     },
     "metadata": {
      "needs_background": "light"
     },
     "output_type": "display_data"
    }
   ],
   "source": [
    "plt.scatter(train_features_data_2d_rotated[:, 0], train_features_data_2d_rotated[:, 1])\n",
    "plt.plot(corner_points_rotated[0:2, 0], corner_points_rotated[0:2, 1])\n",
    "plt.plot(corner_points_rotated[1:3, 0], corner_points_rotated[1:3, 1])\n",
    "plt.plot(corner_points_rotated[2:4, 0], corner_points_rotated[2:4, 1])\n",
    "plt.plot([corner_points_rotated[3, 0], corner_points_rotated[0, 0]], [corner_points_rotated[3, 1], corner_points_rotated[0, 1]])"
   ]
  },
  {
   "cell_type": "code",
   "execution_count": 13,
   "metadata": {
    "execution": {
     "iopub.execute_input": "2020-10-03T23:27:10.766645Z",
     "iopub.status.busy": "2020-10-03T23:27:10.765874Z",
     "iopub.status.idle": "2020-10-03T23:27:10.769529Z",
     "shell.execute_reply": "2020-10-03T23:27:10.769032Z"
    },
    "papermill": {
     "duration": 0.030981,
     "end_time": "2020-10-03T23:27:10.769646",
     "exception": false,
     "start_time": "2020-10-03T23:27:10.738665",
     "status": "completed"
    },
    "tags": []
   },
   "outputs": [],
   "source": [
    "img_size=32\n",
    "def rescale_cartersian_cords(arr):\n",
    "    arr_x = arr[:, 0].reshape((arr.shape[0], 1))\n",
    "    arr_y = arr[:, 1].reshape((arr.shape[0], 1))\n",
    "    new_arr_x = ((arr_x - arr_x.min()) * (1/(arr_x.max() - arr_x.min()) * img_size)).astype('uint8')\n",
    "    new_arr_y = ((arr_y - arr_y.min()) * (1/(arr_y.max() - arr_y.min()) * img_size)).astype('uint8')\n",
    "    rescaled_arr = np.concatenate((new_arr_x, new_arr_y), axis=1)\n",
    "    return rescaled_arr\n",
    "\n",
    "train_features_data_2d_rescaled = rescale_cartersian_cords(train_features_data_2d_rotated)"
   ]
  },
  {
   "cell_type": "code",
   "execution_count": 14,
   "metadata": {
    "execution": {
     "iopub.execute_input": "2020-10-03T23:27:10.815125Z",
     "iopub.status.busy": "2020-10-03T23:27:10.814342Z",
     "iopub.status.idle": "2020-10-03T23:27:10.816840Z",
     "shell.execute_reply": "2020-10-03T23:27:10.817307Z"
    },
    "papermill": {
     "duration": 0.028408,
     "end_time": "2020-10-03T23:27:10.817475",
     "exception": false,
     "start_time": "2020-10-03T23:27:10.789067",
     "status": "completed"
    },
    "tags": []
   },
   "outputs": [],
   "source": [
    "def map_feature_values(rescaled_arr, feature_values_array):\n",
    "    pixel_value_arr = np.zeros((img_size, img_size))\n",
    "    for i, value in enumerate(feature_values_array):\n",
    "        pixel_x_cord = rescaled_arr[i][0]\n",
    "        pixel_y_cord = rescaled_arr[i][1]\n",
    "        \n",
    "        pixel_value_arr[pixel_x_cord-1][pixel_y_cord-1] = value\n",
    "    # arr_trans = ((pixel_value_arr - pixel_value_arr.min()) * (1/(pixel_value_arr.max() - pixel_value_arr.min()) * 255)).astype('uint8')\n",
    "    return pixel_value_arr"
   ]
  },
  {
   "cell_type": "code",
   "execution_count": 15,
   "metadata": {
    "execution": {
     "iopub.execute_input": "2020-10-03T23:27:10.968936Z",
     "iopub.status.busy": "2020-10-03T23:27:10.910663Z",
     "iopub.status.idle": "2020-10-03T23:27:12.155151Z",
     "shell.execute_reply": "2020-10-03T23:27:12.154632Z"
    },
    "papermill": {
     "duration": 1.318481,
     "end_time": "2020-10-03T23:27:12.155282",
     "exception": false,
     "start_time": "2020-10-03T23:27:10.836801",
     "status": "completed"
    },
    "tags": []
   },
   "outputs": [
    {
     "data": {
      "image/png": "[encoded data removed]",
      "text/plain": [
       "<Figure size 1800x720 with 8 Axes>"
      ]
     },
     "metadata": {
      "needs_background": "light"
     },
     "output_type": "display_data"
    }
   ],
   "source": [
    "sample_num = [0, 1, 5, 98, 40, 78, 8756, 21000]\n",
    "pixel_matrix_ls = []\n",
    "for num in sample_num:\n",
    "    pixel_value_arr = map_feature_values(train_features_data_2d_rescaled, train_features_data[gene_expression_ls].values[num])\n",
    "    pixel_matrix_ls.append(pixel_value_arr)\n",
    "\n",
    "fig, axes = plt.subplots(nrows=1, ncols=len(sample_num), figsize=(25, 10), sharex=True, sharey=True)\n",
    "for i, ax in enumerate(axes.flatten()):\n",
    "    fig.add_subplot(ax)\n",
    "    plt.imshow(pixel_matrix_ls[i])\n",
    "    plt.gca().set_title('Sample # {}'.format(sample_num[i]))\n",
    "plt.show()"
   ]
  },
  {
   "cell_type": "code",
   "execution_count": 16,
   "metadata": {
    "execution": {
     "iopub.execute_input": "2020-10-03T23:27:12.205222Z",
     "iopub.status.busy": "2020-10-03T23:27:12.204488Z",
     "iopub.status.idle": "2020-10-03T23:29:24.515686Z",
     "shell.execute_reply": "2020-10-03T23:29:24.430836Z"
    },
    "papermill": {
     "duration": 132.339308,
     "end_time": "2020-10-03T23:29:24.515875",
     "exception": false,
     "start_time": "2020-10-03T23:27:12.176567",
     "status": "completed"
    },
    "tags": []
   },
   "outputs": [
    {
     "data": {
      "application/vnd.jupyter.widget-view+json": {
       "model_id": "7646830588e341ee964475fb50dae393",
       "version_major": 2,
       "version_minor": 0
      },
      "text/plain": [
       "HBox(children=(FloatProgress(value=0.0, max=23814.0), HTML(value='')))"
      ]
     },
     "metadata": {},
     "output_type": "display_data"
    },
    {
     "name": "stdout",
     "output_type": "stream",
     "text": [
      "\n"
     ]
    }
   ],
   "source": [
    "import matplotlib\n",
    "from tqdm.notebook import tqdm\n",
    "import cv2\n",
    "try:\n",
    "    os.makedirs('images/gene_seq_images', exist_ok=True)\n",
    "except:\n",
    "    pass\n",
    "\n",
    "geneseq_image_data = []\n",
    "for sig_id, feature_value in tqdm(zip(train_features_data['sig_id'].values, \n",
    "                                      train_features_data[gene_expression_ls].values),\n",
    "                                      total=len(train_features_data)):\n",
    "    \n",
    "    pixel_value_arr = map_feature_values(train_features_data_2d_rescaled, feature_value)\n",
    "    \n",
    "    geneseq_image_data.append(pixel_value_arr.reshape((1, img_size, img_size)))\n",
    "    # cv2.imwrite('images/gene_seq_images/{}.png'.format(sig_id), pixel_value_arr.reshape((img_size, img_size, 1)))\n",
    "# !zip -r images.zip images/gene_seq_images"
   ]
  },
  {
   "cell_type": "code",
   "execution_count": 17,
   "metadata": {
    "execution": {
     "iopub.execute_input": "2020-10-03T23:29:24.568730Z",
     "iopub.status.busy": "2020-10-03T23:29:24.567966Z",
     "iopub.status.idle": "2020-10-03T23:29:44.787366Z",
     "shell.execute_reply": "2020-10-03T23:29:44.652575Z"
    },
    "papermill": {
     "duration": 20.248532,
     "end_time": "2020-10-03T23:29:44.787522",
     "exception": false,
     "start_time": "2020-10-03T23:29:24.538990",
     "status": "completed"
    },
    "tags": []
   },
   "outputs": [
    {
     "data": {
      "application/vnd.jupyter.widget-view+json": {
       "model_id": "cb2dc659ac76480b87585ff7ab903954",
       "version_major": 2,
       "version_minor": 0
      },
      "text/plain": [
       "HBox(children=(FloatProgress(value=0.0, max=3982.0), HTML(value='')))"
      ]
     },
     "metadata": {},
     "output_type": "display_data"
    },
    {
     "name": "stdout",
     "output_type": "stream",
     "text": [
      "\n"
     ]
    }
   ],
   "source": [
    "test_geneseq_image_data = []\n",
    "for sig_id, feature_value in tqdm(zip(test_features_data['sig_id'].values, \n",
    "                                      test_features_data[gene_expression_ls].values),\n",
    "                                      total=len(test_features_data)):\n",
    "    \n",
    "    pixel_value_arr_test = map_feature_values(train_features_data_2d_rescaled, feature_value)\n",
    "    \n",
    "    test_geneseq_image_data.append(pixel_value_arr_test.reshape((1, img_size, img_size)))"
   ]
  },
  {
   "cell_type": "code",
   "execution_count": 18,
   "metadata": {
    "execution": {
     "iopub.execute_input": "2020-10-03T23:29:44.845303Z",
     "iopub.status.busy": "2020-10-03T23:29:44.844535Z",
     "iopub.status.idle": "2020-10-03T23:29:44.847916Z",
     "shell.execute_reply": "2020-10-03T23:29:44.847419Z"
    },
    "papermill": {
     "duration": 0.03796,
     "end_time": "2020-10-03T23:29:44.848026",
     "exception": false,
     "start_time": "2020-10-03T23:29:44.810066",
     "status": "completed"
    },
    "tags": []
   },
   "outputs": [],
   "source": [
    "train_feat_targets_data['image_data'] = geneseq_image_data\n",
    "test_features_data['image_data'] = test_geneseq_image_data"
   ]
  },
  {
   "cell_type": "code",
   "execution_count": 19,
   "metadata": {
    "execution": {
     "iopub.execute_input": "2020-10-03T23:29:44.903051Z",
     "iopub.status.busy": "2020-10-03T23:29:44.902321Z",
     "iopub.status.idle": "2020-10-03T23:29:45.278975Z",
     "shell.execute_reply": "2020-10-03T23:29:45.278228Z"
    },
    "papermill": {
     "duration": 0.408532,
     "end_time": "2020-10-03T23:29:45.279093",
     "exception": false,
     "start_time": "2020-10-03T23:29:44.870561",
     "status": "completed"
    },
    "tags": []
   },
   "outputs": [],
   "source": [
    "from torch.utils.data import Dataset, DataLoader\n",
    "import torchvision.transforms as transforms\n",
    "class TrainData(Dataset):\n",
    "    def __init__(self, train_features_data, image_data_colname, target_labels):\n",
    "        self.feat = train_features_data[image_data_colname].values\n",
    "        self.labels = train_features_data[target_labels].values\n",
    "        \n",
    "    def __getitem__(self, idx):\n",
    "        img = torch.FloatTensor(self.feat[idx])\n",
    "        target_labels = torch.FloatTensor(self.labels[idx])\n",
    "        return img, target_labels\n",
    "\n",
    "    def __len__(self):\n",
    "        return len(self.feat)\n",
    "    \n",
    "\n",
    "class TestData(Dataset):\n",
    "    def __init__(self, data, image_data_colname):\n",
    "        self.feat = data[image_data_colname].values\n",
    "        \n",
    "    def __getitem__(self, idx):\n",
    "        img = torch.FloatTensor(self.feat[idx])\n",
    "        return img\n",
    "\n",
    "    def __len__(self):\n",
    "        return len(self.feat)"
   ]
  },
  {
   "cell_type": "code",
   "execution_count": 20,
   "metadata": {
    "execution": {
     "iopub.execute_input": "2020-10-03T23:29:45.330083Z",
     "iopub.status.busy": "2020-10-03T23:29:45.329141Z",
     "iopub.status.idle": "2020-10-03T23:29:45.331940Z",
     "shell.execute_reply": "2020-10-03T23:29:45.332459Z"
    },
    "papermill": {
     "duration": 0.030495,
     "end_time": "2020-10-03T23:29:45.332647",
     "exception": false,
     "start_time": "2020-10-03T23:29:45.302152",
     "status": "completed"
    },
    "tags": []
   },
   "outputs": [],
   "source": [
    "# train_data = TrainData(train_feat_targets_data, 'image_data', target_labels)\n",
    "# trainloader = DataLoader(train_data, batch_size=32)"
   ]
  },
  {
   "cell_type": "code",
   "execution_count": 21,
   "metadata": {
    "execution": {
     "iopub.execute_input": "2020-10-03T23:29:45.396065Z",
     "iopub.status.busy": "2020-10-03T23:29:45.395089Z",
     "iopub.status.idle": "2020-10-03T23:29:45.398430Z",
     "shell.execute_reply": "2020-10-03T23:29:45.397929Z"
    },
    "papermill": {
     "duration": 0.042562,
     "end_time": "2020-10-03T23:29:45.398548",
     "exception": false,
     "start_time": "2020-10-03T23:29:45.355986",
     "status": "completed"
    },
    "tags": []
   },
   "outputs": [],
   "source": [
    "num_input_features = 3+772+100\n",
    "num_output_features = 206\n",
    "batch_size = 256\n",
    "num_epochs = 20\n",
    "\n",
    "class cnn_model(nn.Module):\n",
    "    def __init__(self):\n",
    "        super(cnn_model, self).__init__()\n",
    "        self.conv = nn.Sequential(\n",
    "            nn.Conv2d(in_channels=1, out_channels=16, kernel_size=(3, 3), padding=(1, 1)),\n",
    "            nn.BatchNorm2d(16),\n",
    "            nn.Dropout2d(p=0.2),\n",
    "            nn.ReLU(),\n",
    "            nn.MaxPool2d(kernel_size=(2, 2)), # img_size=16x16\n",
    "            \n",
    "            nn.Conv2d(in_channels=16, out_channels=32, kernel_size=(3, 3), padding=(1, 1)),\n",
    "            nn.BatchNorm2d(32),\n",
    "            nn.Dropout2d(p=0.2),\n",
    "            nn.ReLU(),\n",
    "            nn.MaxPool2d(kernel_size=(2, 2)), # img_size=8x8\n",
    "            \n",
    "            nn.Conv2d(in_channels=32, out_channels=64, kernel_size=(3, 3), padding=(1, 1)),\n",
    "            nn.BatchNorm2d(64),\n",
    "            nn.Dropout2d(p=0.2),\n",
    "            nn.ReLU(),\n",
    "            nn.MaxPool2d(kernel_size=(2, 2)),# img_size=4x4,\n",
    "            \n",
    "            nn.Conv2d(in_channels=64, out_channels=128, kernel_size=(3, 3), padding=(1, 1)),\n",
    "            nn.BatchNorm2d(128),\n",
    "            nn.Dropout2d(p=0.2),\n",
    "            nn.ReLU(),# img_size=4x4      \n",
    "        )\n",
    "        self.fc_layer = nn.Sequential(\n",
    "            \n",
    "            nn.Linear(in_features=2048, out_features=1024),\n",
    "            nn.BatchNorm1d(1024),\n",
    "            nn.Dropout(0.2),\n",
    "            nn.ReLU(),\n",
    "            \n",
    "            nn.Linear(in_features=1024, out_features=512),\n",
    "            nn.BatchNorm1d(512),\n",
    "            nn.Dropout(0.2),\n",
    "            nn.ReLU(),\n",
    "            \n",
    "            nn.Linear(in_features=512, out_features=num_output_features)  \n",
    "        \n",
    "        )\n",
    "    \n",
    "    def forward(self, x):\n",
    "        x = self.conv(x)\n",
    "        x = x.view(-1, 128*4*4)\n",
    "        x  = self.fc_layer(x)\n",
    "        return x"
   ]
  },
  {
   "cell_type": "code",
   "execution_count": 22,
   "metadata": {
    "execution": {
     "iopub.execute_input": "2020-10-03T23:29:45.457359Z",
     "iopub.status.busy": "2020-10-03T23:29:45.456397Z",
     "iopub.status.idle": "2020-10-03T23:29:45.459695Z",
     "shell.execute_reply": "2020-10-03T23:29:45.459155Z"
    },
    "papermill": {
     "duration": 0.038336,
     "end_time": "2020-10-03T23:29:45.459814",
     "exception": false,
     "start_time": "2020-10-03T23:29:45.421478",
     "status": "completed"
    },
    "tags": []
   },
   "outputs": [],
   "source": [
    "def evaluate(model, validloader, criterion):\n",
    "    final_loss = 0\n",
    "    valid_preds = []\n",
    "    for i, data in enumerate(validloader):\n",
    "        features, labels = data\n",
    "        outputs = model(features)\n",
    "        loss = criterion(outputs.float(), labels.float())\n",
    "        final_loss+=loss.item()\n",
    "        valid_preds.append(outputs.sigmoid().detach().cpu().numpy())\n",
    "    \n",
    "    final_loss /= len(validloader)\n",
    "    valid_preds = np.concatenate(valid_preds)\n",
    "    \n",
    "    return final_loss, valid_preds\n",
    "\n",
    "def train(model, trainloader, criterion, optimizer):\n",
    "    running_loss = 0\n",
    "    for i, data in enumerate(trainloader):\n",
    "        features, labels = data\n",
    "        optimizer.zero_grad()\n",
    "        outputs = model(features)\n",
    "        #loss\n",
    "        loss = criterion(outputs.float(), labels.float())\n",
    "        loss.backward()\n",
    "        optimizer.step()\n",
    "\n",
    "        running_loss+=loss.item()\n",
    "\n",
    "    training_loss = running_loss/len(trainloader)\n",
    "    return training_loss, model\n",
    "\n",
    "def test_prediction(model, testloader):\n",
    "    preds_df = pd.DataFrame()\n",
    "    with torch.no_grad():\n",
    "        for i, data in enumerate(testloader):\n",
    "            features = data\n",
    "            outputs = model(features)\n",
    "            temp_df = pd.DataFrame(F.sigmoid(outputs).numpy())\n",
    "            preds_df = pd.concat([preds_df, temp_df])\n",
    "    return preds_df"
   ]
  },
  {
   "cell_type": "code",
   "execution_count": 23,
   "metadata": {
    "execution": {
     "iopub.execute_input": "2020-10-03T23:29:45.518575Z",
     "iopub.status.busy": "2020-10-03T23:29:45.517837Z",
     "iopub.status.idle": "2020-10-04T00:23:04.354484Z",
     "shell.execute_reply": "2020-10-04T00:23:04.353141Z"
    },
    "papermill": {
     "duration": 3198.871829,
     "end_time": "2020-10-04T00:23:04.354867",
     "exception": false,
     "start_time": "2020-10-03T23:29:45.483038",
     "status": "completed"
    },
    "tags": []
   },
   "outputs": [
    {
     "name": "stderr",
     "output_type": "stream",
     "text": [
      "/opt/conda/lib/python3.7/site-packages/sklearn/utils/validation.py:70: FutureWarning: Pass shuffle=True, random_state=1008 as keyword args. From version 0.25 passing these as positional arguments will result in an error\n",
      "  FutureWarning)\n"
     ]
    },
    {
     "name": "stdout",
     "output_type": "stream",
     "text": [
      "-----\n",
      "Fold 1\n",
      "-----\n",
      "\t Epoch 0, Training Loss = 0.08468406942983468, Valid Loss = 0.020965600288227984\n",
      "\t Epoch 1, Training Loss = 0.02028774658838908, Valid Loss = 0.0197834958763499\n",
      "\t Epoch 2, Training Loss = 0.019611540387074154, Valid Loss = 0.019379473438388424\n",
      "\t Epoch 3, Training Loss = 0.019268544266621272, Valid Loss = 0.019219667111572466\n",
      "\t Epoch 4, Training Loss = 0.01900453880429268, Valid Loss = 0.018790781203853458\n",
      "\t Epoch 5, Training Loss = 0.018737877458333968, Valid Loss = 0.018617157383184684\n",
      "\t Epoch 6, Training Loss = 0.018465960423151653, Valid Loss = 0.01842379883715981\n",
      "\t Epoch 7, Training Loss = 0.0182393079996109, Valid Loss = 0.018258710244768543\n",
      "\t Epoch 8, Training Loss = 0.018138987695177397, Valid Loss = 0.018179398079059626\n",
      "\t Epoch 9, Training Loss = 0.017950974330306055, Valid Loss = 0.018143790332894576\n",
      "\t Epoch 10, Training Loss = 0.017871089167892932, Valid Loss = 0.018011184115158885\n",
      "\t Epoch 11, Training Loss = 0.017713661131759484, Valid Loss = 0.01788591711144698\n",
      "\t Epoch 12, Training Loss = 0.017575884225467842, Valid Loss = 0.01764794488094355\n",
      "\t Epoch 13, Training Loss = 0.01740277829269568, Valid Loss = 0.017650901388965155\n",
      "\t Epoch 14, Training Loss = 0.01727656090011199, Valid Loss = 0.017722526369126218\n",
      "\t Epoch 15, Training Loss = 0.01714357494066159, Valid Loss = 0.01759867870101803\n",
      "\t Epoch 16, Training Loss = 0.01703402142971754, Valid Loss = 0.017644035090741358\n",
      "\t Epoch 17, Training Loss = 0.01687105139096578, Valid Loss = 0.017576860460011584\n",
      "\t Epoch 18, Training Loss = 0.016731131188571453, Valid Loss = 0.01747293436997815\n",
      "\t Epoch 19, Training Loss = 0.016517362395922344, Valid Loss = 0.017560590744802828\n"
     ]
    },
    {
     "name": "stderr",
     "output_type": "stream",
     "text": [
      "/opt/conda/lib/python3.7/site-packages/torch/nn/functional.py:1569: UserWarning: nn.functional.sigmoid is deprecated. Use torch.sigmoid instead.\n",
      "  warnings.warn(\"nn.functional.sigmoid is deprecated. Use torch.sigmoid instead.\")\n"
     ]
    },
    {
     "name": "stdout",
     "output_type": "stream",
     "text": [
      "-----\n",
      "Fold 2\n",
      "-----\n",
      "\t Epoch 0, Training Loss = 0.08287458126743634, Valid Loss = 0.02100038459818614\n",
      "\t Epoch 1, Training Loss = 0.020166664520899456, Valid Loss = 0.01993792798174055\n",
      "\t Epoch 2, Training Loss = 0.01957507515947024, Valid Loss = 0.019573115498611803\n",
      "\t Epoch 3, Training Loss = 0.019198101237416266, Valid Loss = 0.019183930989943053\n",
      "\t Epoch 4, Training Loss = 0.01891679920256138, Valid Loss = 0.019033554941415787\n",
      "\t Epoch 5, Training Loss = 0.01866774241129557, Valid Loss = 0.01874206499441674\n",
      "\t Epoch 6, Training Loss = 0.018437472184499103, Valid Loss = 0.018654557141034228\n",
      "\t Epoch 7, Training Loss = 0.018266425194839637, Valid Loss = 0.01845154264255574\n",
      "\t Epoch 8, Training Loss = 0.018054472332199416, Valid Loss = 0.018389606064087467\n",
      "\t Epoch 9, Training Loss = 0.01792434458931287, Valid Loss = 0.01825373178642047\n",
      "\t Epoch 10, Training Loss = 0.01779431525617838, Valid Loss = 0.01820736545089044\n",
      "\t Epoch 11, Training Loss = 0.017611939509709677, Valid Loss = 0.018033030246825593\n",
      "\t Epoch 12, Training Loss = 0.017433968546489875, Valid Loss = 0.01802880106199729\n",
      "\t Epoch 13, Training Loss = 0.017327199553449947, Valid Loss = 0.01797359211272315\n",
      "\t Epoch 14, Training Loss = 0.017160772047936916, Valid Loss = 0.01786506587737485\n",
      "\t Epoch 15, Training Loss = 0.017024733709792295, Valid Loss = 0.017963236197829247\n",
      "\t Epoch 16, Training Loss = 0.016896714208026728, Valid Loss = 0.0178654572289241\n",
      "\t Epoch 17, Training Loss = 0.01673649067680041, Valid Loss = 0.01791810107074286\n",
      "\t Epoch 18, Training Loss = 0.016566136740148067, Valid Loss = 0.017808644689227406\n",
      "\t Epoch 19, Training Loss = 0.016413314615686736, Valid Loss = 0.01779318365611528\n",
      "-----\n",
      "Fold 3\n",
      "-----\n",
      "\t Epoch 0, Training Loss = 0.08411505974829198, Valid Loss = 0.020851692282839826\n",
      "\t Epoch 1, Training Loss = 0.020310855954885482, Valid Loss = 0.01972406622218458\n",
      "\t Epoch 2, Training Loss = 0.01966217391192913, Valid Loss = 0.019321285286232046\n",
      "\t Epoch 3, Training Loss = 0.019422785093386966, Valid Loss = 0.01906462876420272\n",
      "\t Epoch 4, Training Loss = 0.019113488122820856, Valid Loss = 0.018917237457476165\n",
      "\t Epoch 5, Training Loss = 0.018811926593383155, Valid Loss = 0.018660302813115873\n",
      "\t Epoch 6, Training Loss = 0.018555096959074337, Valid Loss = 0.018462396962077993\n",
      "\t Epoch 7, Training Loss = 0.018367435956994693, Valid Loss = 0.01821322641090343\n",
      "\t Epoch 8, Training Loss = 0.018162445748845735, Valid Loss = 0.018188416075549628\n",
      "\t Epoch 9, Training Loss = 0.018054671461383502, Valid Loss = 0.018028196437578452\n",
      "\t Epoch 10, Training Loss = 0.017843293795982998, Valid Loss = 0.017985153306079537\n",
      "\t Epoch 11, Training Loss = 0.017750188484787943, Valid Loss = 0.01791383228019664\n",
      "\t Epoch 12, Training Loss = 0.017569372206926347, Valid Loss = 0.017820003883619057\n",
      "\t Epoch 13, Training Loss = 0.017465080904463928, Valid Loss = 0.01780359221524314\n",
      "\t Epoch 14, Training Loss = 0.01730631430943807, Valid Loss = 0.017629088833928108\n",
      "\t Epoch 15, Training Loss = 0.01718409400433302, Valid Loss = 0.017614900477622684\n",
      "\t Epoch 16, Training Loss = 0.016990101772050063, Valid Loss = 0.017610114361894757\n",
      "\t Epoch 17, Training Loss = 0.016903875234226387, Valid Loss = 0.01753369870742685\n",
      "\t Epoch 18, Training Loss = 0.016747628649075825, Valid Loss = 0.017470484697505048\n",
      "\t Epoch 19, Training Loss = 0.016568756972750027, Valid Loss = 0.017542702194891478\n",
      "-----\n",
      "Fold 4\n",
      "-----\n",
      "\t Epoch 0, Training Loss = 0.08552742605408033, Valid Loss = 0.020886625016206188\n",
      "\t Epoch 1, Training Loss = 0.020345857217907905, Valid Loss = 0.019877061836029355\n",
      "\t Epoch 2, Training Loss = 0.019633871391415595, Valid Loss = 0.01952237910345981\n",
      "\t Epoch 3, Training Loss = 0.01926930362979571, Valid Loss = 0.0191496038123181\n",
      "\t Epoch 4, Training Loss = 0.01898139961063862, Valid Loss = 0.018903219582218873\n",
      "\t Epoch 5, Training Loss = 0.0187201090157032, Valid Loss = 0.018800642635477215\n",
      "\t Epoch 6, Training Loss = 0.018515668883919714, Valid Loss = 0.01842802753181834\n",
      "\t Epoch 7, Training Loss = 0.018327507798870404, Valid Loss = 0.018392923288047314\n",
      "\t Epoch 8, Training Loss = 0.018164485817154248, Valid Loss = 0.018164649605751038\n",
      "\t Epoch 9, Training Loss = 0.017968323330084482, Valid Loss = 0.01807457796837154\n",
      "\t Epoch 10, Training Loss = 0.01788987303773562, Valid Loss = 0.017949002059666735\n",
      "\t Epoch 11, Training Loss = 0.01773846469819546, Valid Loss = 0.017900125172577407\n",
      "\t Epoch 12, Training Loss = 0.017579627732435862, Valid Loss = 0.01783945274196173\n",
      "\t Epoch 13, Training Loss = 0.017422156321505705, Valid Loss = 0.017763655338632434\n",
      "\t Epoch 14, Training Loss = 0.01733792930841446, Valid Loss = 0.017748725453489704\n",
      "\t Epoch 15, Training Loss = 0.017208015595873198, Valid Loss = 0.01760594840896757\n",
      "\t Epoch 16, Training Loss = 0.017017533034086228, Valid Loss = 0.01757664684402315\n",
      "\t Epoch 17, Training Loss = 0.016876951567828657, Valid Loss = 0.01751691544134366\n",
      "\t Epoch 18, Training Loss = 0.016683134151001772, Valid Loss = 0.017547313418043286\n",
      "\t Epoch 19, Training Loss = 0.01654450873533885, Valid Loss = 0.01748934152879213\n",
      "-----\n",
      "Fold 5\n",
      "-----\n",
      "\t Epoch 0, Training Loss = 0.08438850564261277, Valid Loss = 0.020772512708055347\n",
      "\t Epoch 1, Training Loss = 0.020276823217670124, Valid Loss = 0.019767094011369505\n",
      "\t Epoch 2, Training Loss = 0.019612141847610474, Valid Loss = 0.01948477651335691\n",
      "\t Epoch 3, Training Loss = 0.019355110079050063, Valid Loss = 0.01910713638522123\n",
      "\t Epoch 4, Training Loss = 0.019040600284934043, Valid Loss = 0.01886573894635627\n",
      "\t Epoch 5, Training Loss = 0.01878222294151783, Valid Loss = 0.018656428119069653\n",
      "\t Epoch 6, Training Loss = 0.01852198878924052, Valid Loss = 0.018497416553528684\n",
      "\t Epoch 7, Training Loss = 0.018324249883492787, Valid Loss = 0.018293567590023343\n",
      "\t Epoch 8, Training Loss = 0.0181569891422987, Valid Loss = 0.018181955637900454\n",
      "\t Epoch 9, Training Loss = 0.01805341601371765, Valid Loss = 0.018024131165523278\n",
      "\t Epoch 10, Training Loss = 0.017894444825748604, Valid Loss = 0.01792307815661556\n",
      "\t Epoch 11, Training Loss = 0.017772608076532682, Valid Loss = 0.017902834340929985\n",
      "\t Epoch 12, Training Loss = 0.01766751124213139, Valid Loss = 0.017712209471746496\n",
      "\t Epoch 13, Training Loss = 0.017519378835956254, Valid Loss = 0.01780721819714496\n",
      "\t Epoch 14, Training Loss = 0.01742983317623536, Valid Loss = 0.017632927647546717\n",
      "\t Epoch 15, Training Loss = 0.01725513322899739, Valid Loss = 0.017580774367639895\n",
      "\t Epoch 16, Training Loss = 0.01719112372646729, Valid Loss = 0.01756899735253108\n",
      "\t Epoch 17, Training Loss = 0.01698000755161047, Valid Loss = 0.017577184462233594\n",
      "\t Epoch 18, Training Loss = 0.016825429424643518, Valid Loss = 0.017517832647028723\n",
      "\t Epoch 19, Training Loss = 0.016686942676703134, Valid Loss = 0.01740340903205307\n"
     ]
    }
   ],
   "source": [
    "final_preds_arr = np.zeros((len(test_features_data), len(target_labels)))\n",
    "kfold = MultilabelStratifiedKFold(n_splits=5, random_state=1008, shuffle=True)\n",
    "\n",
    "for n, (train_idx, valid_idx) in enumerate(kfold.split(train_feat_targets_data, train_feat_targets_data[target_labels])):\n",
    "    print ('-'*5)\n",
    "    print ('Fold {}'.format(n+1))\n",
    "    print ('-'*5)\n",
    "    \n",
    "    # network\n",
    "    nn_model = cnn_model().float()\n",
    "\n",
    "    ## loss\n",
    "    criterion = nn.BCEWithLogitsLoss()\n",
    "    optimizer = optim.Adam(params=nn_model.parameters(), lr=0.001)\n",
    "    \n",
    "    # splitting into train and validation\n",
    "    train_data_fold, valid_data_fold = train_feat_targets_data.loc[train_idx], train_feat_targets_data.loc[valid_idx]\n",
    "    \n",
    "    # trainloader\n",
    "    train_data =  TrainData(train_data_fold, 'image_data', target_labels)\n",
    "    trainloader = DataLoader(dataset=train_data, batch_size=batch_size, shuffle=True)\n",
    "\n",
    "    # validloader\n",
    "    valid_data = TrainData(valid_data_fold, 'image_data', target_labels)\n",
    "    validloader = DataLoader(dataset=valid_data, batch_size=batch_size, shuffle=True)\n",
    "    \n",
    "    # testloader\n",
    "    test_data = TestData(test_features_data, 'image_data')\n",
    "    testloader = DataLoader(dataset=test_data, batch_size=batch_size)\n",
    "        \n",
    "    for epoch in range(num_epochs):\n",
    "        training_loss, nn_model = train(nn_model, trainloader, criterion, optimizer)\n",
    "        valid_loss, valid_preds = evaluate(nn_model, validloader, criterion)\n",
    "        print ('\\t', 'Epoch {}, Training Loss = {}, Valid Loss = {}'.format(epoch, training_loss, valid_loss))\n",
    "        \n",
    "    preds_df = test_prediction(nn_model, testloader).values\n",
    "    final_preds_arr+=preds_df\n",
    "final_preds_arr = final_preds_arr/5"
   ]
  },
  {
   "cell_type": "code",
   "execution_count": 24,
   "metadata": {
    "execution": {
     "iopub.execute_input": "2020-10-04T00:23:04.477510Z",
     "iopub.status.busy": "2020-10-04T00:23:04.476475Z",
     "iopub.status.idle": "2020-10-04T00:23:04.595932Z",
     "shell.execute_reply": "2020-10-04T00:23:04.595270Z"
    },
    "papermill": {
     "duration": 0.182837,
     "end_time": "2020-10-04T00:23:04.596052",
     "exception": false,
     "start_time": "2020-10-04T00:23:04.413215",
     "status": "completed"
    },
    "tags": []
   },
   "outputs": [
    {
     "data": {
      "text/html": [
       "<div>\n",
       "<style scoped>\n",
       "    .dataframe tbody tr th:only-of-type {\n",
       "        vertical-align: middle;\n",
       "    }\n",
       "\n",
       "    .dataframe tbody tr th {\n",
       "        vertical-align: top;\n",
       "    }\n",
       "\n",
       "    .dataframe thead th {\n",
       "        text-align: right;\n",
       "    }\n",
       "</style>\n",
       "<table border=\"1\" class=\"dataframe\">\n",
       "  <thead>\n",
       "    <tr style=\"text-align: right;\">\n",
       "      <th></th>\n",
       "      <th>sig_id</th>\n",
       "      <th>5-alpha_reductase_inhibitor</th>\n",
       "      <th>11-beta-hsd1_inhibitor</th>\n",
       "      <th>acat_inhibitor</th>\n",
       "      <th>acetylcholine_receptor_agonist</th>\n",
       "      <th>acetylcholine_receptor_antagonist</th>\n",
       "      <th>acetylcholinesterase_inhibitor</th>\n",
       "      <th>adenosine_receptor_agonist</th>\n",
       "      <th>adenosine_receptor_antagonist</th>\n",
       "      <th>adenylyl_cyclase_activator</th>\n",
       "      <th>...</th>\n",
       "      <th>tropomyosin_receptor_kinase_inhibitor</th>\n",
       "      <th>trpv_agonist</th>\n",
       "      <th>trpv_antagonist</th>\n",
       "      <th>tubulin_inhibitor</th>\n",
       "      <th>tyrosine_kinase_inhibitor</th>\n",
       "      <th>ubiquitin_specific_protease_inhibitor</th>\n",
       "      <th>vegfr_inhibitor</th>\n",
       "      <th>vitamin_b</th>\n",
       "      <th>vitamin_d_receptor_agonist</th>\n",
       "      <th>wnt_inhibitor</th>\n",
       "    </tr>\n",
       "  </thead>\n",
       "  <tbody>\n",
       "    <tr>\n",
       "      <th>0</th>\n",
       "      <td>id_0004d9e33</td>\n",
       "      <td>0.002506</td>\n",
       "      <td>0.002366</td>\n",
       "      <td>0.002373</td>\n",
       "      <td>0.020366</td>\n",
       "      <td>0.023341</td>\n",
       "      <td>0.006427</td>\n",
       "      <td>0.003652</td>\n",
       "      <td>0.007920</td>\n",
       "      <td>0.000945</td>\n",
       "      <td>...</td>\n",
       "      <td>0.000477</td>\n",
       "      <td>0.001553</td>\n",
       "      <td>0.004070</td>\n",
       "      <td>0.007031</td>\n",
       "      <td>0.003616</td>\n",
       "      <td>0.000957</td>\n",
       "      <td>0.004790</td>\n",
       "      <td>0.001877</td>\n",
       "      <td>0.002506</td>\n",
       "      <td>0.001975</td>\n",
       "    </tr>\n",
       "    <tr>\n",
       "      <th>1</th>\n",
       "      <td>id_001897cda</td>\n",
       "      <td>0.000155</td>\n",
       "      <td>0.000334</td>\n",
       "      <td>0.001153</td>\n",
       "      <td>0.001884</td>\n",
       "      <td>0.001624</td>\n",
       "      <td>0.001446</td>\n",
       "      <td>0.001394</td>\n",
       "      <td>0.003722</td>\n",
       "      <td>0.001324</td>\n",
       "      <td>...</td>\n",
       "      <td>0.000209</td>\n",
       "      <td>0.000845</td>\n",
       "      <td>0.000891</td>\n",
       "      <td>0.001165</td>\n",
       "      <td>0.017507</td>\n",
       "      <td>0.000173</td>\n",
       "      <td>0.049642</td>\n",
       "      <td>0.000518</td>\n",
       "      <td>0.005427</td>\n",
       "      <td>0.001025</td>\n",
       "    </tr>\n",
       "    <tr>\n",
       "      <th>2</th>\n",
       "      <td>id_002429b5b</td>\n",
       "      <td>0.000326</td>\n",
       "      <td>0.000296</td>\n",
       "      <td>0.001215</td>\n",
       "      <td>0.013458</td>\n",
       "      <td>0.009557</td>\n",
       "      <td>0.001556</td>\n",
       "      <td>0.002398</td>\n",
       "      <td>0.002483</td>\n",
       "      <td>0.000391</td>\n",
       "      <td>...</td>\n",
       "      <td>0.000425</td>\n",
       "      <td>0.000373</td>\n",
       "      <td>0.001322</td>\n",
       "      <td>0.000776</td>\n",
       "      <td>0.003496</td>\n",
       "      <td>0.000136</td>\n",
       "      <td>0.004818</td>\n",
       "      <td>0.001816</td>\n",
       "      <td>0.001877</td>\n",
       "      <td>0.000721</td>\n",
       "    </tr>\n",
       "    <tr>\n",
       "      <th>3</th>\n",
       "      <td>id_00276f245</td>\n",
       "      <td>0.000222</td>\n",
       "      <td>0.000310</td>\n",
       "      <td>0.001105</td>\n",
       "      <td>0.009262</td>\n",
       "      <td>0.004157</td>\n",
       "      <td>0.002257</td>\n",
       "      <td>0.002056</td>\n",
       "      <td>0.003533</td>\n",
       "      <td>0.000819</td>\n",
       "      <td>...</td>\n",
       "      <td>0.000360</td>\n",
       "      <td>0.001617</td>\n",
       "      <td>0.001701</td>\n",
       "      <td>0.016640</td>\n",
       "      <td>0.005833</td>\n",
       "      <td>0.000226</td>\n",
       "      <td>0.016012</td>\n",
       "      <td>0.001049</td>\n",
       "      <td>0.002954</td>\n",
       "      <td>0.001302</td>\n",
       "    </tr>\n",
       "    <tr>\n",
       "      <th>4</th>\n",
       "      <td>id_0027f1083</td>\n",
       "      <td>0.001185</td>\n",
       "      <td>0.000760</td>\n",
       "      <td>0.001058</td>\n",
       "      <td>0.010495</td>\n",
       "      <td>0.017100</td>\n",
       "      <td>0.003340</td>\n",
       "      <td>0.002717</td>\n",
       "      <td>0.002870</td>\n",
       "      <td>0.000231</td>\n",
       "      <td>...</td>\n",
       "      <td>0.000243</td>\n",
       "      <td>0.000320</td>\n",
       "      <td>0.001765</td>\n",
       "      <td>0.000704</td>\n",
       "      <td>0.001626</td>\n",
       "      <td>0.000294</td>\n",
       "      <td>0.003112</td>\n",
       "      <td>0.001161</td>\n",
       "      <td>0.000808</td>\n",
       "      <td>0.000551</td>\n",
       "    </tr>\n",
       "  </tbody>\n",
       "</table>\n",
       "<p>5 rows × 207 columns</p>\n",
       "</div>"
      ],
      "text/plain": [
       "         sig_id  5-alpha_reductase_inhibitor  11-beta-hsd1_inhibitor  \\\n",
       "0  id_0004d9e33                     0.002506                0.002366   \n",
       "1  id_001897cda                     0.000155                0.000334   \n",
       "2  id_002429b5b                     0.000326                0.000296   \n",
       "3  id_00276f245                     0.000222                0.000310   \n",
       "4  id_0027f1083                     0.001185                0.000760   \n",
       "\n",
       "   acat_inhibitor  acetylcholine_receptor_agonist  \\\n",
       "0        0.002373                        0.020366   \n",
       "1        0.001153                        0.001884   \n",
       "2        0.001215                        0.013458   \n",
       "3        0.001105                        0.009262   \n",
       "4        0.001058                        0.010495   \n",
       "\n",
       "   acetylcholine_receptor_antagonist  acetylcholinesterase_inhibitor  \\\n",
       "0                           0.023341                        0.006427   \n",
       "1                           0.001624                        0.001446   \n",
       "2                           0.009557                        0.001556   \n",
       "3                           0.004157                        0.002257   \n",
       "4                           0.017100                        0.003340   \n",
       "\n",
       "   adenosine_receptor_agonist  adenosine_receptor_antagonist  \\\n",
       "0                    0.003652                       0.007920   \n",
       "1                    0.001394                       0.003722   \n",
       "2                    0.002398                       0.002483   \n",
       "3                    0.002056                       0.003533   \n",
       "4                    0.002717                       0.002870   \n",
       "\n",
       "   adenylyl_cyclase_activator  ...  tropomyosin_receptor_kinase_inhibitor  \\\n",
       "0                    0.000945  ...                               0.000477   \n",
       "1                    0.001324  ...                               0.000209   \n",
       "2                    0.000391  ...                               0.000425   \n",
       "3                    0.000819  ...                               0.000360   \n",
       "4                    0.000231  ...                               0.000243   \n",
       "\n",
       "   trpv_agonist  trpv_antagonist  tubulin_inhibitor  \\\n",
       "0      0.001553         0.004070           0.007031   \n",
       "1      0.000845         0.000891           0.001165   \n",
       "2      0.000373         0.001322           0.000776   \n",
       "3      0.001617         0.001701           0.016640   \n",
       "4      0.000320         0.001765           0.000704   \n",
       "\n",
       "   tyrosine_kinase_inhibitor  ubiquitin_specific_protease_inhibitor  \\\n",
       "0                   0.003616                               0.000957   \n",
       "1                   0.017507                               0.000173   \n",
       "2                   0.003496                               0.000136   \n",
       "3                   0.005833                               0.000226   \n",
       "4                   0.001626                               0.000294   \n",
       "\n",
       "   vegfr_inhibitor  vitamin_b  vitamin_d_receptor_agonist  wnt_inhibitor  \n",
       "0         0.004790   0.001877                    0.002506       0.001975  \n",
       "1         0.049642   0.000518                    0.005427       0.001025  \n",
       "2         0.004818   0.001816                    0.001877       0.000721  \n",
       "3         0.016012   0.001049                    0.002954       0.001302  \n",
       "4         0.003112   0.001161                    0.000808       0.000551  \n",
       "\n",
       "[5 rows x 207 columns]"
      ]
     },
     "execution_count": 24,
     "metadata": {},
     "output_type": "execute_result"
    }
   ],
   "source": [
    "final_pred_df = pd.DataFrame(final_preds_arr)\n",
    "final_pred_df.columns = target_labels\n",
    "sample_submission = pd.read_csv(data_path+'sample_submission.csv')\n",
    "final_pred_df = pd.concat([sample_submission[['sig_id']], final_pred_df.reset_index(drop=True)], axis=1)\n",
    "final_pred_df.head()"
   ]
  },
  {
   "cell_type": "code",
   "execution_count": 25,
   "metadata": {
    "execution": {
     "iopub.execute_input": "2020-10-04T00:23:04.713027Z",
     "iopub.status.busy": "2020-10-04T00:23:04.712201Z",
     "iopub.status.idle": "2020-10-04T00:23:04.805330Z",
     "shell.execute_reply": "2020-10-04T00:23:04.804752Z"
    },
    "papermill": {
     "duration": 0.156215,
     "end_time": "2020-10-04T00:23:04.805491",
     "exception": false,
     "start_time": "2020-10-04T00:23:04.649276",
     "status": "completed"
    },
    "tags": []
   },
   "outputs": [],
   "source": [
    "controlled_samples = test_features_data[test_features_data['cp_type']==1]['sig_id'].tolist()\n",
    "final_pred_df.loc[final_pred_df['sig_id'].isin(controlled_samples), target_labels] = 0"
   ]
  },
  {
   "cell_type": "code",
   "execution_count": 26,
   "metadata": {
    "execution": {
     "iopub.execute_input": "2020-10-04T00:23:04.916356Z",
     "iopub.status.busy": "2020-10-04T00:23:04.915630Z",
     "iopub.status.idle": "2020-10-04T00:23:06.687884Z",
     "shell.execute_reply": "2020-10-04T00:23:06.687159Z"
    },
    "papermill": {
     "duration": 1.82973,
     "end_time": "2020-10-04T00:23:06.688006",
     "exception": false,
     "start_time": "2020-10-04T00:23:04.858276",
     "status": "completed"
    },
    "tags": []
   },
   "outputs": [],
   "source": [
    "final_pred_df.to_csv('submission.csv', index=False)"
   ]
  }
 ],
 "metadata": {
  "kernelspec": {
   "display_name": "Python 3",
   "language": "python",
   "name": "python3"
  },
  "language_info": {
   "codemirror_mode": {
    "name": "ipython",
    "version": 3
   },
   "file_extension": ".py",
   "mimetype": "text/x-python",
   "name": "python",
   "nbconvert_exporter": "python",
   "pygments_lexer": "ipython3",
   "version": "3.7.6"
  },
  "papermill": {
   "duration": 3403.763017,
   "end_time": "2020-10-04T00:23:06.856382",
   "environment_variables": {},
   "exception": null,
   "input_path": "__notebook__.ipynb",
   "output_path": "__notebook__.ipynb",
   "parameters": {},
   "start_time": "2020-10-03T23:26:23.093365",
   "version": "2.1.0"
  },
  "widgets": {
   "application/vnd.jupyter.widget-state+json": {
    "state": {
     "014a1b49fcc74d46bb9e890eb8be0cd3": {
      "model_module": "@jupyter-widgets/controls",
      "model_module_version": "1.5.0",
      "model_name": "ProgressStyleModel",
      "state": {
       "_model_module": "@jupyter-widgets/controls",
       "_model_module_version": "1.5.0",
       "_model_name": "ProgressStyleModel",
       "_view_count": null,
       "_view_module": "@jupyter-widgets/base",
       "_view_module_version": "1.2.0",
       "_view_name": "StyleView",
       "bar_color": null,
       "description_width": "initial"
      }
     },
     "04875f082b7742568fe7ffce0929e7e9": {
      "model_module": "@jupyter-widgets/controls",
      "model_module_version": "1.5.0",
      "model_name": "DescriptionStyleModel",
      "state": {
       "_model_module": "@jupyter-widgets/controls",
       "_model_module_version": "1.5.0",
       "_model_name": "DescriptionStyleModel",
       "_view_count": null,
       "_view_module": "@jupyter-widgets/base",
       "_view_module_version": "1.2.0",
       "_view_name": "StyleView",
       "description_width": ""
      }
     },
     "099db8371d6c4bd4aa53e341338bfdfe": {
      "model_module": "@jupyter-widgets/controls",
      "model_module_version": "1.5.0",
      "model_name": "ProgressStyleModel",
      "state": {
       "_model_module": "@jupyter-widgets/controls",
       "_model_module_version": "1.5.0",
       "_model_name": "ProgressStyleModel",
       "_view_count": null,
       "_view_module": "@jupyter-widgets/base",
       "_view_module_version": "1.2.0",
       "_view_name": "StyleView",
       "bar_color": null,
       "description_width": "initial"
      }
     },
     "13cc5b8faf1c45a1b4d8e53a6ab36bb2": {
      "model_module": "@jupyter-widgets/base",
      "model_module_version": "1.2.0",
      "model_name": "LayoutModel",
      "state": {
       "_model_module": "@jupyter-widgets/base",
       "_model_module_version": "1.2.0",
       "_model_name": "LayoutModel",
       "_view_count": null,
       "_view_module": "@jupyter-widgets/base",
       "_view_module_version": "1.2.0",
       "_view_name": "LayoutView",
       "align_content": null,
       "align_items": null,
       "align_self": null,
       "border": null,
       "bottom": null,
       "display": null,
       "flex": null,
       "flex_flow": null,
       "grid_area": null,
       "grid_auto_columns": null,
       "grid_auto_flow": null,
       "grid_auto_rows": null,
       "grid_column": null,
       "grid_gap": null,
       "grid_row": null,
       "grid_template_areas": null,
       "grid_template_columns": null,
       "grid_template_rows": null,
       "height": null,
       "justify_content": null,
       "justify_items": null,
       "left": null,
       "margin": null,
       "max_height": null,
       "max_width": null,
       "min_height": null,
       "min_width": null,
       "object_fit": null,
       "object_position": null,
       "order": null,
       "overflow": null,
       "overflow_x": null,
       "overflow_y": null,
       "padding": null,
       "right": null,
       "top": null,
       "visibility": null,
       "width": null
      }
     },
     "15d5ea4f5f194e0c9a5d9865b9c3f37c": {
      "model_module": "@jupyter-widgets/controls",
      "model_module_version": "1.5.0",
      "model_name": "HTMLModel",
      "state": {
       "_dom_classes": [],
       "_model_module": "@jupyter-widgets/controls",
       "_model_module_version": "1.5.0",
       "_model_name": "HTMLModel",
       "_view_count": null,
       "_view_module": "@jupyter-widgets/controls",
       "_view_module_version": "1.5.0",
       "_view_name": "HTMLView",
       "description": "",
       "description_tooltip": null,
       "layout": "IPY_MODEL_1fae462db7c546528eb020a352dda1cd",
       "placeholder": "​",
       "style": "IPY_MODEL_52b19e8ba08144c99eceeb2d84295030",
       "value": " 23814/23814 [02:30&lt;00:00, 157.97it/s]"
      }
     },
     "1fae462db7c546528eb020a352dda1cd": {
      "model_module": "@jupyter-widgets/base",
      "model_module_version": "1.2.0",
      "model_name": "LayoutModel",
      "state": {
       "_model_module": "@jupyter-widgets/base",
       "_model_module_version": "1.2.0",
       "_model_name": "LayoutModel",
       "_view_count": null,
       "_view_module": "@jupyter-widgets/base",
       "_view_module_version": "1.2.0",
       "_view_name": "LayoutView",
       "align_content": null,
       "align_items": null,
       "align_self": null,
       "border": null,
       "bottom": null,
       "display": null,
       "flex": null,
       "flex_flow": null,
       "grid_area": null,
       "grid_auto_columns": null,
       "grid_auto_flow": null,
       "grid_auto_rows": null,
       "grid_column": null,
       "grid_gap": null,
       "grid_row": null,
       "grid_template_areas": null,
       "grid_template_columns": null,
       "grid_template_rows": null,
       "height": null,
       "justify_content": null,
       "justify_items": null,
       "left": null,
       "margin": null,
       "max_height": null,
       "max_width": null,
       "min_height": null,
       "min_width": null,
       "object_fit": null,
       "object_position": null,
       "order": null,
       "overflow": null,
       "overflow_x": null,
       "overflow_y": null,
       "padding": null,
       "right": null,
       "top": null,
       "visibility": null,
       "width": null
      }
     },
     "4724a322593140b1859d305a7e160736": {
      "model_module": "@jupyter-widgets/controls",
      "model_module_version": "1.5.0",
      "model_name": "HTMLModel",
      "state": {
       "_dom_classes": [],
       "_model_module": "@jupyter-widgets/controls",
       "_model_module_version": "1.5.0",
       "_model_name": "HTMLModel",
       "_view_count": null,
       "_view_module": "@jupyter-widgets/controls",
       "_view_module_version": "1.5.0",
       "_view_name": "HTMLView",
       "description": "",
       "description_tooltip": null,
       "layout": "IPY_MODEL_65106798c66548a9accf9dbf10eb8385",
       "placeholder": "​",
       "style": "IPY_MODEL_04875f082b7742568fe7ffce0929e7e9",
       "value": " 3982/3982 [00:41&lt;00:00, 95.44it/s]"
      }
     },
     "4c4c6d7671a44c07acd2d3ff2a72a098": {
      "model_module": "@jupyter-widgets/base",
      "model_module_version": "1.2.0",
      "model_name": "LayoutModel",
      "state": {
       "_model_module": "@jupyter-widgets/base",
       "_model_module_version": "1.2.0",
       "_model_name": "LayoutModel",
       "_view_count": null,
       "_view_module": "@jupyter-widgets/base",
       "_view_module_version": "1.2.0",
       "_view_name": "LayoutView",
       "align_content": null,
       "align_items": null,
       "align_self": null,
       "border": null,
       "bottom": null,
       "display": null,
       "flex": null,
       "flex_flow": null,
       "grid_area": null,
       "grid_auto_columns": null,
       "grid_auto_flow": null,
       "grid_auto_rows": null,
       "grid_column": null,
       "grid_gap": null,
       "grid_row": null,
       "grid_template_areas": null,
       "grid_template_columns": null,
       "grid_template_rows": null,
       "height": null,
       "justify_content": null,
       "justify_items": null,
       "left": null,
       "margin": null,
       "max_height": null,
       "max_width": null,
       "min_height": null,
       "min_width": null,
       "object_fit": null,
       "object_position": null,
       "order": null,
       "overflow": null,
       "overflow_x": null,
       "overflow_y": null,
       "padding": null,
       "right": null,
       "top": null,
       "visibility": null,
       "width": null
      }
     },
     "52b19e8ba08144c99eceeb2d84295030": {
      "model_module": "@jupyter-widgets/controls",
      "model_module_version": "1.5.0",
      "model_name": "DescriptionStyleModel",
      "state": {
       "_model_module": "@jupyter-widgets/controls",
       "_model_module_version": "1.5.0",
       "_model_name": "DescriptionStyleModel",
       "_view_count": null,
       "_view_module": "@jupyter-widgets/base",
       "_view_module_version": "1.2.0",
       "_view_name": "StyleView",
       "description_width": ""
      }
     },
     "65106798c66548a9accf9dbf10eb8385": {
      "model_module": "@jupyter-widgets/base",
      "model_module_version": "1.2.0",
      "model_name": "LayoutModel",
      "state": {
       "_model_module": "@jupyter-widgets/base",
       "_model_module_version": "1.2.0",
       "_model_name": "LayoutModel",
       "_view_count": null,
       "_view_module": "@jupyter-widgets/base",
       "_view_module_version": "1.2.0",
       "_view_name": "LayoutView",
       "align_content": null,
       "align_items": null,
       "align_self": null,
       "border": null,
       "bottom": null,
       "display": null,
       "flex": null,
       "flex_flow": null,
       "grid_area": null,
       "grid_auto_columns": null,
       "grid_auto_flow": null,
       "grid_auto_rows": null,
       "grid_column": null,
       "grid_gap": null,
       "grid_row": null,
       "grid_template_areas": null,
       "grid_template_columns": null,
       "grid_template_rows": null,
       "height": null,
       "justify_content": null,
       "justify_items": null,
       "left": null,
       "margin": null,
       "max_height": null,
       "max_width": null,
       "min_height": null,
       "min_width": null,
       "object_fit": null,
       "object_position": null,
       "order": null,
       "overflow": null,
       "overflow_x": null,
       "overflow_y": null,
       "padding": null,
       "right": null,
       "top": null,
       "visibility": null,
       "width": null
      }
     },
     "6c1ab77da2d74f4c929d729d4c453ba2": {
      "model_module": "@jupyter-widgets/controls",
      "model_module_version": "1.5.0",
      "model_name": "FloatProgressModel",
      "state": {
       "_dom_classes": [],
       "_model_module": "@jupyter-widgets/controls",
       "_model_module_version": "1.5.0",
       "_model_name": "FloatProgressModel",
       "_view_count": null,
       "_view_module": "@jupyter-widgets/controls",
       "_view_module_version": "1.5.0",
       "_view_name": "ProgressView",
       "bar_style": "success",
       "description": "100%",
       "description_tooltip": null,
       "layout": "IPY_MODEL_ba487f98ac724d59a2c7999cdc759229",
       "max": 23814.0,
       "min": 0.0,
       "orientation": "horizontal",
       "style": "IPY_MODEL_014a1b49fcc74d46bb9e890eb8be0cd3",
       "value": 23814.0
      }
     },
     "7646830588e341ee964475fb50dae393": {
      "model_module": "@jupyter-widgets/controls",
      "model_module_version": "1.5.0",
      "model_name": "HBoxModel",
      "state": {
       "_dom_classes": [],
       "_model_module": "@jupyter-widgets/controls",
       "_model_module_version": "1.5.0",
       "_model_name": "HBoxModel",
       "_view_count": null,
       "_view_module": "@jupyter-widgets/controls",
       "_view_module_version": "1.5.0",
       "_view_name": "HBoxView",
       "box_style": "",
       "children": [
        "IPY_MODEL_6c1ab77da2d74f4c929d729d4c453ba2",
        "IPY_MODEL_15d5ea4f5f194e0c9a5d9865b9c3f37c"
       ],
       "layout": "IPY_MODEL_d13f51ff583f4640b6951a5d601d08d9"
      }
     },
     "b2acd7e2bbdf4f3f8277a856cf470972": {
      "model_module": "@jupyter-widgets/controls",
      "model_module_version": "1.5.0",
      "model_name": "FloatProgressModel",
      "state": {
       "_dom_classes": [],
       "_model_module": "@jupyter-widgets/controls",
       "_model_module_version": "1.5.0",
       "_model_name": "FloatProgressModel",
       "_view_count": null,
       "_view_module": "@jupyter-widgets/controls",
       "_view_module_version": "1.5.0",
       "_view_name": "ProgressView",
       "bar_style": "success",
       "description": "100%",
       "description_tooltip": null,
       "layout": "IPY_MODEL_4c4c6d7671a44c07acd2d3ff2a72a098",
       "max": 3982.0,
       "min": 0.0,
       "orientation": "horizontal",
       "style": "IPY_MODEL_099db8371d6c4bd4aa53e341338bfdfe",
       "value": 3982.0
      }
     },
     "ba487f98ac724d59a2c7999cdc759229": {
      "model_module": "@jupyter-widgets/base",
      "model_module_version": "1.2.0",
      "model_name": "LayoutModel",
      "state": {
       "_model_module": "@jupyter-widgets/base",
       "_model_module_version": "1.2.0",
       "_model_name": "LayoutModel",
       "_view_count": null,
       "_view_module": "@jupyter-widgets/base",
       "_view_module_version": "1.2.0",
       "_view_name": "LayoutView",
       "align_content": null,
       "align_items": null,
       "align_self": null,
       "border": null,
       "bottom": null,
       "display": null,
       "flex": null,
       "flex_flow": null,
       "grid_area": null,
       "grid_auto_columns": null,
       "grid_auto_flow": null,
       "grid_auto_rows": null,
       "grid_column": null,
       "grid_gap": null,
       "grid_row": null,
       "grid_template_areas": null,
       "grid_template_columns": null,
       "grid_template_rows": null,
       "height": null,
       "justify_content": null,
       "justify_items": null,
       "left": null,
       "margin": null,
       "max_height": null,
       "max_width": null,
       "min_height": null,
       "min_width": null,
       "object_fit": null,
       "object_position": null,
       "order": null,
       "overflow": null,
       "overflow_x": null,
       "overflow_y": null,
       "padding": null,
       "right": null,
       "top": null,
       "visibility": null,
       "width": null
      }
     },
     "cb2dc659ac76480b87585ff7ab903954": {
      "model_module": "@jupyter-widgets/controls",
      "model_module_version": "1.5.0",
      "model_name": "HBoxModel",
      "state": {
       "_dom_classes": [],
       "_model_module": "@jupyter-widgets/controls",
       "_model_module_version": "1.5.0",
       "_model_name": "HBoxModel",
       "_view_count": null,
       "_view_module": "@jupyter-widgets/controls",
       "_view_module_version": "1.5.0",
       "_view_name": "HBoxView",
       "box_style": "",
       "children": [
        "IPY_MODEL_b2acd7e2bbdf4f3f8277a856cf470972",
        "IPY_MODEL_4724a322593140b1859d305a7e160736"
       ],
       "layout": "IPY_MODEL_13cc5b8faf1c45a1b4d8e53a6ab36bb2"
      }
     },
     "d13f51ff583f4640b6951a5d601d08d9": {
      "model_module": "@jupyter-widgets/base",
      "model_module_version": "1.2.0",
      "model_name": "LayoutModel",
      "state": {
       "_model_module": "@jupyter-widgets/base",
       "_model_module_version": "1.2.0",
       "_model_name": "LayoutModel",
       "_view_count": null,
       "_view_module": "@jupyter-widgets/base",
       "_view_module_version": "1.2.0",
       "_view_name": "LayoutView",
       "align_content": null,
       "align_items": null,
       "align_self": null,
       "border": null,
       "bottom": null,
       "display": null,
       "flex": null,
       "flex_flow": null,
       "grid_area": null,
       "grid_auto_columns": null,
       "grid_auto_flow": null,
       "grid_auto_rows": null,
       "grid_column": null,
       "grid_gap": null,
       "grid_row": null,
       "grid_template_areas": null,
       "grid_template_columns": null,
       "grid_template_rows": null,
       "height": null,
       "justify_content": null,
       "justify_items": null,
       "left": null,
       "margin": null,
       "max_height": null,
       "max_width": null,
       "min_height": null,
       "min_width": null,
       "object_fit": null,
       "object_position": null,
       "order": null,
       "overflow": null,
       "overflow_x": null,
       "overflow_y": null,
       "padding": null,
       "right": null,
       "top": null,
       "visibility": null,
       "width": null
      }
     }
    },
    "version_major": 2,
    "version_minor": 0
   }
  }
 },
 "nbformat": 4,
 "nbformat_minor": 4
}
